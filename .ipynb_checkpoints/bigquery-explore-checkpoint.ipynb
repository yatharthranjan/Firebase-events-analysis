{
 "cells": [
  {
   "cell_type": "markdown",
   "metadata": {
    "pycharm": {
     "name": "#%% md\n"
    }
   },
   "source": [
    "Import required packages\n"
   ]
  },
  {
   "cell_type": "code",
   "execution_count": 28,
   "metadata": {},
   "outputs": [],
   "source": [
    "import pandas as pd\n",
    "import os\n",
    "import datetime\n",
    "import numpy as np"
   ]
  },
  {
   "cell_type": "code",
   "execution_count": 2,
   "metadata": {
    "pycharm": {
     "name": "#%%\n"
    }
   },
   "outputs": [],
   "source": [
    "def get_query(table_name: str, start_date: str, end_date: str) -> str:\n",
    "    return f\"\"\"\n",
    "        SELECT \n",
    "         event_date,\n",
    "         event_timestamp, \n",
    "         event_name, \n",
    "         event_parameters.key AS event_param_key, \n",
    "         event_parameters.value.int_value AS event_param_int, \n",
    "         event_parameters.value.string_value AS event_param_string,\n",
    "         user_pseudo_id, \n",
    "         user_prop.key AS user_prop_key, \n",
    "         user_prop.value.string_value AS user_prop_string\n",
    "        FROM\n",
    "         `{table_name}` as T,\n",
    "          UNNEST(user_properties) AS user_prop,\n",
    "          UNNEST(event_params) AS event_parameters\n",
    "        WHERE \n",
    "          _TABLE_SUFFIX BETWEEN \"{start_date}\" AND \"{end_date}\"\n",
    "          AND ((event_name = \"user_engagement\" AND event_parameters.key = \"engagement_time_msec\") OR (event_name = \"notification_receive\") OR event_name = \"notification_open\")\n",
    "          AND (user_prop.key = \"subjectId\" OR user_prop.key = \"projectId\")\n",
    "    \"\"\""
   ]
  },
  {
   "cell_type": "code",
   "execution_count": 3,
   "metadata": {
    "pycharm": {
     "name": "#%%\n"
    }
   },
   "outputs": [],
   "source": [
    "\n",
    "def get_list_of_studies(query_result: pd.DataFrame):\n",
    "    return query_result[query_result['user_prop_key'] == 'projectId'][['user_pseudo_id', 'user_prop_string']]\n",
    "\n",
    "\n",
    "def write_to_csv_file(filename: str, filepath: str, data: pd.DataFrame):\n",
    "    os.makedirs(filepath, exist_ok=True)\n",
    "    with open(os.path.join(filepath, filename), 'w') as f:\n",
    "        f.write(data.to_csv(index_label='index'))\n",
    "    print('Written to File successfully.')\n"
   ]
  },
  {
   "cell_type": "code",
   "execution_count": 4,
   "metadata": {
    "pycharm": {
     "name": "#%%\n"
    }
   },
   "outputs": [],
   "source": [
    "def format_datetime(obj: datetime) -> str:\n",
    "    return obj.strftime('%Y%m%d')"
   ]
  },
  {
   "cell_type": "code",
   "execution_count": 5,
   "metadata": {},
   "outputs": [
    {
     "name": "stdout",
     "output_type": "stream",
     "text": [
      "Requirement already satisfied: pyarrow in ./venv3.9/lib/python3.9/site-packages (5.0.0)\r\n",
      "Requirement already satisfied: numpy>=1.16.6 in ./venv3.9/lib/python3.9/site-packages (from pyarrow) (1.21.2)\r\n"
     ]
    }
   ],
   "source": [
    "!pip install pyarrow"
   ]
  },
  {
   "cell_type": "code",
   "execution_count": 6,
   "metadata": {
    "pycharm": {
     "is_executing": true,
     "name": "#%%\n"
    }
   },
   "outputs": [
    {
     "name": "stdout",
     "output_type": "stream",
     "text": [
      "Getting data from BigQuery\n",
      "Converting to Dataframe\n",
      "saving to file\n",
      "Written to File successfully.\n"
     ]
    }
   ],
   "source": [
    "from google.cloud import bigquery\n",
    "\n",
    "# Only run once, if data is saved please proceed to next step.\n",
    "\n",
    "# Construct a BigQuery client object.\n",
    "client = bigquery.Client.from_service_account_json('radar-armt-notification-c2040a9b15cb.json')\n",
    "\n",
    "table = 'radar-armt-notification.analytics_180955751.events_*'\n",
    "#start = format_datetime(datetime.datetime.now() - datetime.timedelta(days=200))\n",
    "#end = format_datetime(datetime.datetime.now())\n",
    "\n",
    "start = \"20191130\"\n",
    "end = \"20210628\"\n",
    "\n",
    "print('Getting data from BigQuery')\n",
    "result = client.query(get_query(table, start, end))  # Make an API request.\n",
    "\n",
    "print('Converting to Dataframe')\n",
    "result_df: pd.DataFrame = result.to_dataframe()\n",
    "    \n",
    "print('Saving to file')\n",
    "# Save dataframe to file so we don't need to query bigqeury again and again.\n",
    "write_to_csv_file('data.csv', 'data/' + f'{start}' + f'-{end}', data=result_df)"
   ]
  },
  {
   "cell_type": "code",
   "execution_count": null,
   "metadata": {
    "pycharm": {
     "is_executing": false,
     "name": "#%%\n"
    }
   },
   "outputs": [],
   "source": [
    "# load data saved in csv file\n",
    "\n",
    "file = f'data/{start}-{end}/data.csv'\n",
    "\n",
    "result_df = pd.read_csv(file)"
   ]
  },
  {
   "cell_type": "code",
   "execution_count": 7,
   "metadata": {
    "pycharm": {
     "name": "#%%\n"
    }
   },
   "outputs": [
    {
     "data": {
      "text/html": [
       "<div>\n",
       "<style scoped>\n",
       "    .dataframe tbody tr th:only-of-type {\n",
       "        vertical-align: middle;\n",
       "    }\n",
       "\n",
       "    .dataframe tbody tr th {\n",
       "        vertical-align: top;\n",
       "    }\n",
       "\n",
       "    .dataframe thead th {\n",
       "        text-align: right;\n",
       "    }\n",
       "</style>\n",
       "<table border=\"1\" class=\"dataframe\">\n",
       "  <thead>\n",
       "    <tr style=\"text-align: right;\">\n",
       "      <th></th>\n",
       "      <th>event_date</th>\n",
       "      <th>event_timestamp</th>\n",
       "      <th>event_name</th>\n",
       "      <th>event_param_key</th>\n",
       "      <th>event_param_int</th>\n",
       "      <th>event_param_string</th>\n",
       "      <th>user_pseudo_id</th>\n",
       "      <th>user_prop_key</th>\n",
       "      <th>user_prop_string</th>\n",
       "    </tr>\n",
       "  </thead>\n",
       "  <tbody>\n",
       "    <tr>\n",
       "      <th>0</th>\n",
       "      <td>20191226</td>\n",
       "      <td>1577352601826000</td>\n",
       "      <td>notification_receive</td>\n",
       "      <td>firebase_conversion</td>\n",
       "      <td>1.0</td>\n",
       "      <td>None</td>\n",
       "      <td>9338dc7dba04cb2a95f10ce046385f8b</td>\n",
       "      <td>projectId</td>\n",
       "      <td>RADAR-MDD-KCL-s1</td>\n",
       "    </tr>\n",
       "    <tr>\n",
       "      <th>1</th>\n",
       "      <td>20191226</td>\n",
       "      <td>1577352601826000</td>\n",
       "      <td>notification_receive</td>\n",
       "      <td>message_type</td>\n",
       "      <td>NaN</td>\n",
       "      <td>display</td>\n",
       "      <td>9338dc7dba04cb2a95f10ce046385f8b</td>\n",
       "      <td>projectId</td>\n",
       "      <td>RADAR-MDD-KCL-s1</td>\n",
       "    </tr>\n",
       "    <tr>\n",
       "      <th>2</th>\n",
       "      <td>20191226</td>\n",
       "      <td>1577352601826000</td>\n",
       "      <td>notification_receive</td>\n",
       "      <td>firebase_event_origin</td>\n",
       "      <td>NaN</td>\n",
       "      <td>fcm</td>\n",
       "      <td>9338dc7dba04cb2a95f10ce046385f8b</td>\n",
       "      <td>projectId</td>\n",
       "      <td>RADAR-MDD-KCL-s1</td>\n",
       "    </tr>\n",
       "    <tr>\n",
       "      <th>3</th>\n",
       "      <td>20191226</td>\n",
       "      <td>1577352601826000</td>\n",
       "      <td>notification_receive</td>\n",
       "      <td>firebase_conversion</td>\n",
       "      <td>1.0</td>\n",
       "      <td>None</td>\n",
       "      <td>9338dc7dba04cb2a95f10ce046385f8b</td>\n",
       "      <td>subjectId</td>\n",
       "      <td>a61fc535-ae92-4bfd-b9d9-36c9f4e27bd8</td>\n",
       "    </tr>\n",
       "    <tr>\n",
       "      <th>4</th>\n",
       "      <td>20191226</td>\n",
       "      <td>1577352601826000</td>\n",
       "      <td>notification_receive</td>\n",
       "      <td>message_type</td>\n",
       "      <td>NaN</td>\n",
       "      <td>display</td>\n",
       "      <td>9338dc7dba04cb2a95f10ce046385f8b</td>\n",
       "      <td>subjectId</td>\n",
       "      <td>a61fc535-ae92-4bfd-b9d9-36c9f4e27bd8</td>\n",
       "    </tr>\n",
       "  </tbody>\n",
       "</table>\n",
       "</div>"
      ],
      "text/plain": [
       "  event_date   event_timestamp            event_name        event_param_key  \\\n",
       "0   20191226  1577352601826000  notification_receive    firebase_conversion   \n",
       "1   20191226  1577352601826000  notification_receive           message_type   \n",
       "2   20191226  1577352601826000  notification_receive  firebase_event_origin   \n",
       "3   20191226  1577352601826000  notification_receive    firebase_conversion   \n",
       "4   20191226  1577352601826000  notification_receive           message_type   \n",
       "\n",
       "   event_param_int event_param_string                    user_pseudo_id  \\\n",
       "0              1.0               None  9338dc7dba04cb2a95f10ce046385f8b   \n",
       "1              NaN            display  9338dc7dba04cb2a95f10ce046385f8b   \n",
       "2              NaN                fcm  9338dc7dba04cb2a95f10ce046385f8b   \n",
       "3              1.0               None  9338dc7dba04cb2a95f10ce046385f8b   \n",
       "4              NaN            display  9338dc7dba04cb2a95f10ce046385f8b   \n",
       "\n",
       "  user_prop_key                      user_prop_string  \n",
       "0     projectId                      RADAR-MDD-KCL-s1  \n",
       "1     projectId                      RADAR-MDD-KCL-s1  \n",
       "2     projectId                      RADAR-MDD-KCL-s1  \n",
       "3     subjectId  a61fc535-ae92-4bfd-b9d9-36c9f4e27bd8  \n",
       "4     subjectId  a61fc535-ae92-4bfd-b9d9-36c9f4e27bd8  "
      ]
     },
     "execution_count": 7,
     "metadata": {},
     "output_type": "execute_result"
    }
   ],
   "source": [
    "result_df.head()"
   ]
  },
  {
   "cell_type": "code",
   "execution_count": 49,
   "metadata": {},
   "outputs": [],
   "source": [
    "def pre_process(data: pd.DataFrame, required_params = ['message_type', 'engagement_time_msec']) -> pd.DataFrame:\n",
    "\n",
    "    data = data[data['event_param_key'].isin(required_params)]\n",
    "    print('removed unnecessary rows')\n",
    "    data.index = pd.to_datetime(data['event_timestamp'] * 1000)\n",
    "    print('Created date time index')\n",
    "    project_ids = data[data['user_prop_key'] == 'projectId']['user_prop_string']\n",
    "    print('got project Ids')\n",
    "    data = data[data['user_prop_key'] != 'projectId']\n",
    "    print('removed rows with project id as they are duplicates')\n",
    "    data = data.drop(axis=1, columns=['user_prop_key'])\n",
    "    print('dropped user prop keys')\n",
    "    data.loc[:,'engagement_time_msec'] = data['event_param_int']\n",
    "    print('created column of engagement time msec')\n",
    "    data.rename({'user_prop_string': 'subjectId'}, axis=1, inplace=True)\n",
    "    print('renamed user prop string to subjectId')\n",
    "    data.loc[:,'message_type'] = data['event_param_string']\n",
    "    print('created column. message type')\n",
    "    data = data.drop(axis=1, columns = ['event_param_int', 'event_param_string', 'event_param_key'])\n",
    "    print('dropped unnecessary columns')\n",
    "    data = pd.concat([data, project_ids.dropna()], axis=1)\n",
    "    print('added column for project Ids')\n",
    "    data.rename({'user_prop_string': 'projectId'}, axis=1, inplace=True)\n",
    "    print('renamed user prop string to projectId')\n",
    "    return data"
   ]
  },
  {
   "cell_type": "code",
   "execution_count": 50,
   "metadata": {
    "scrolled": true
   },
   "outputs": [
    {
     "name": "stdout",
     "output_type": "stream",
     "text": [
      "removed unnecessary rows\n",
      "Created date time index\n",
      "got project Ids\n",
      "removed rows with project id as they are duplicates\n",
      "dropped user prop keys\n",
      "created column of engagement time msec\n",
      "renamed user prop string to subjectId\n",
      "created column. message type\n",
      "dropped unnecessary columns\n",
      "added column for project Ids\n",
      "renamed user prop string to projectId\n",
      "Written to File successfully.\n"
     ]
    }
   ],
   "source": [
    "# If possible load this from file as it take a long time to pre process the data due to its volume.\n",
    "\n",
    "processed_df = pre_process(result_df)\n",
    "write_to_csv_file('processed-data.csv', 'data/20190927-20200414', data=processed_df)"
   ]
  },
  {
   "cell_type": "code",
   "execution_count": null,
   "metadata": {},
   "outputs": [],
   "source": [
    "processed_df = pd.read_csv('data/20190927-20200414/processed-data.csv', parse_dates=True, date_parser=pd.to_datetime, index_col='index')"
   ]
  },
  {
   "cell_type": "code",
   "execution_count": 46,
   "metadata": {},
   "outputs": [
    {
     "data": {
      "text/html": [
       "<div>\n",
       "<style scoped>\n",
       "    .dataframe tbody tr th:only-of-type {\n",
       "        vertical-align: middle;\n",
       "    }\n",
       "\n",
       "    .dataframe tbody tr th {\n",
       "        vertical-align: top;\n",
       "    }\n",
       "\n",
       "    .dataframe thead th {\n",
       "        text-align: right;\n",
       "    }\n",
       "</style>\n",
       "<table border=\"1\" class=\"dataframe\">\n",
       "  <thead>\n",
       "    <tr style=\"text-align: right;\">\n",
       "      <th></th>\n",
       "      <th>event_date</th>\n",
       "      <th>event_timestamp</th>\n",
       "      <th>event_name</th>\n",
       "      <th>user_pseudo_id</th>\n",
       "      <th>subjectId</th>\n",
       "      <th>engagement_time_msec</th>\n",
       "      <th>message_type</th>\n",
       "      <th>projectId</th>\n",
       "    </tr>\n",
       "    <tr>\n",
       "      <th>event_timestamp</th>\n",
       "      <th></th>\n",
       "      <th></th>\n",
       "      <th></th>\n",
       "      <th></th>\n",
       "      <th></th>\n",
       "      <th></th>\n",
       "      <th></th>\n",
       "      <th></th>\n",
       "    </tr>\n",
       "  </thead>\n",
       "  <tbody>\n",
       "    <tr>\n",
       "      <th>2019-12-26 09:30:01.826000</th>\n",
       "      <td>20191226</td>\n",
       "      <td>1577352601826000</td>\n",
       "      <td>notification_receive</td>\n",
       "      <td>9338dc7dba04cb2a95f10ce046385f8b</td>\n",
       "      <td>a61fc535-ae92-4bfd-b9d9-36c9f4e27bd8</td>\n",
       "      <td>NaN</td>\n",
       "      <td>display</td>\n",
       "      <td>RADAR-MDD-KCL-s1</td>\n",
       "    </tr>\n",
       "    <tr>\n",
       "      <th>2019-12-26 10:00:03.297000</th>\n",
       "      <td>20191226</td>\n",
       "      <td>1577354403297000</td>\n",
       "      <td>notification_receive</td>\n",
       "      <td>9338dc7dba04cb2a95f10ce046385f8b</td>\n",
       "      <td>a61fc535-ae92-4bfd-b9d9-36c9f4e27bd8</td>\n",
       "      <td>NaN</td>\n",
       "      <td>display</td>\n",
       "      <td>RADAR-MDD-KCL-s1</td>\n",
       "    </tr>\n",
       "    <tr>\n",
       "      <th>2019-12-26 11:00:08.341000</th>\n",
       "      <td>20191226</td>\n",
       "      <td>1577358008341000</td>\n",
       "      <td>notification_receive</td>\n",
       "      <td>9338dc7dba04cb2a95f10ce046385f8b</td>\n",
       "      <td>a61fc535-ae92-4bfd-b9d9-36c9f4e27bd8</td>\n",
       "      <td>NaN</td>\n",
       "      <td>display</td>\n",
       "      <td>RADAR-MDD-KCL-s1</td>\n",
       "    </tr>\n",
       "    <tr>\n",
       "      <th>2019-12-26 11:29:59.872000</th>\n",
       "      <td>20191226</td>\n",
       "      <td>1577359799872000</td>\n",
       "      <td>notification_receive</td>\n",
       "      <td>9338dc7dba04cb2a95f10ce046385f8b</td>\n",
       "      <td>a61fc535-ae92-4bfd-b9d9-36c9f4e27bd8</td>\n",
       "      <td>NaN</td>\n",
       "      <td>display</td>\n",
       "      <td>RADAR-MDD-KCL-s1</td>\n",
       "    </tr>\n",
       "    <tr>\n",
       "      <th>2019-12-26 14:44:22.215001</th>\n",
       "      <td>20191226</td>\n",
       "      <td>1577371462215001</td>\n",
       "      <td>user_engagement</td>\n",
       "      <td>9338dc7dba04cb2a95f10ce046385f8b</td>\n",
       "      <td>a61fc535-ae92-4bfd-b9d9-36c9f4e27bd8</td>\n",
       "      <td>14233.0</td>\n",
       "      <td>None</td>\n",
       "      <td>RADAR-MDD-KCL-s1</td>\n",
       "    </tr>\n",
       "  </tbody>\n",
       "</table>\n",
       "</div>"
      ],
      "text/plain": [
       "                           event_date   event_timestamp            event_name  \\\n",
       "event_timestamp                                                                 \n",
       "2019-12-26 09:30:01.826000   20191226  1577352601826000  notification_receive   \n",
       "2019-12-26 10:00:03.297000   20191226  1577354403297000  notification_receive   \n",
       "2019-12-26 11:00:08.341000   20191226  1577358008341000  notification_receive   \n",
       "2019-12-26 11:29:59.872000   20191226  1577359799872000  notification_receive   \n",
       "2019-12-26 14:44:22.215001   20191226  1577371462215001       user_engagement   \n",
       "\n",
       "                                              user_pseudo_id  \\\n",
       "event_timestamp                                                \n",
       "2019-12-26 09:30:01.826000  9338dc7dba04cb2a95f10ce046385f8b   \n",
       "2019-12-26 10:00:03.297000  9338dc7dba04cb2a95f10ce046385f8b   \n",
       "2019-12-26 11:00:08.341000  9338dc7dba04cb2a95f10ce046385f8b   \n",
       "2019-12-26 11:29:59.872000  9338dc7dba04cb2a95f10ce046385f8b   \n",
       "2019-12-26 14:44:22.215001  9338dc7dba04cb2a95f10ce046385f8b   \n",
       "\n",
       "                                                       subjectId  \\\n",
       "event_timestamp                                                    \n",
       "2019-12-26 09:30:01.826000  a61fc535-ae92-4bfd-b9d9-36c9f4e27bd8   \n",
       "2019-12-26 10:00:03.297000  a61fc535-ae92-4bfd-b9d9-36c9f4e27bd8   \n",
       "2019-12-26 11:00:08.341000  a61fc535-ae92-4bfd-b9d9-36c9f4e27bd8   \n",
       "2019-12-26 11:29:59.872000  a61fc535-ae92-4bfd-b9d9-36c9f4e27bd8   \n",
       "2019-12-26 14:44:22.215001  a61fc535-ae92-4bfd-b9d9-36c9f4e27bd8   \n",
       "\n",
       "                            engagement_time_msec message_type  \\\n",
       "event_timestamp                                                 \n",
       "2019-12-26 09:30:01.826000                   NaN      display   \n",
       "2019-12-26 10:00:03.297000                   NaN      display   \n",
       "2019-12-26 11:00:08.341000                   NaN      display   \n",
       "2019-12-26 11:29:59.872000                   NaN      display   \n",
       "2019-12-26 14:44:22.215001               14233.0         None   \n",
       "\n",
       "                                   projectId  \n",
       "event_timestamp                               \n",
       "2019-12-26 09:30:01.826000  RADAR-MDD-KCL-s1  \n",
       "2019-12-26 10:00:03.297000  RADAR-MDD-KCL-s1  \n",
       "2019-12-26 11:00:08.341000  RADAR-MDD-KCL-s1  \n",
       "2019-12-26 11:29:59.872000  RADAR-MDD-KCL-s1  \n",
       "2019-12-26 14:44:22.215001  RADAR-MDD-KCL-s1  "
      ]
     },
     "execution_count": 46,
     "metadata": {},
     "output_type": "execute_result"
    }
   ],
   "source": [
    "processed_df.head()"
   ]
  },
  {
   "cell_type": "code",
   "execution_count": null,
   "metadata": {},
   "outputs": [],
   "source": [
    "start_date = pd.to_datetime('2019-11-12')\n",
    "end_date = pd.to_datetime('2020-04-11')\n",
    "\n",
    "processed_df_2 = processed_df.loc[(processed_df.index > start_date) & (processed_df.index < end_date)]"
   ]
  },
  {
   "cell_type": "code",
   "execution_count": null,
   "metadata": {},
   "outputs": [],
   "source": [
    "resampled = processed_df_2[processed_df_2['event_name'] == 'user_engagement'].resample('20D')"
   ]
  },
  {
   "cell_type": "code",
   "execution_count": null,
   "metadata": {
    "scrolled": true
   },
   "outputs": [],
   "source": [
    "import matplotlib.pyplot as plt\n",
    "\n",
    "#.drop(labels=pd.to_datetime('2020-03-26'), axis='index')\n",
    "resampled['engagement_time_msec'].sum().plot(figsize=(15,4))\n",
    "plt.title('Total User Engagement Time')\n",
    "\n",
    "plt.xlabel('Time')\n",
    "plt.ylabel('Total Engagement Time (msec)')\n",
    "\n",
    "plt.xticks(['2019-12-15', '2020-01-01', '2020-01-15', '2020-02-01', '2020-02-15', '2020-03-01', '2020-03-15' ])"
   ]
  },
  {
   "cell_type": "code",
   "execution_count": null,
   "metadata": {},
   "outputs": [],
   "source": [
    "# Calculate user engagement per user\n",
    "\n",
    "user_eng_df = processed_df_2[processed_df_2['event_name'] == 'user_engagement']\n",
    "grouped_df = user_eng_df.groupby([pd.Grouper(freq='19D')])"
   ]
  },
  {
   "cell_type": "code",
   "execution_count": null,
   "metadata": {
    "scrolled": true
   },
   "outputs": [],
   "source": [
    "for name, group in grouped_df:\n",
    "    print(name)"
   ]
  },
  {
   "cell_type": "code",
   "execution_count": null,
   "metadata": {},
   "outputs": [],
   "source": [
    "# Aggregate enagement time as sum and count the number of unique users\n",
    "grouped_df_agg = grouped_df.agg(engagement_time_sum_min=pd.NamedAgg(column='engagement_time_msec', aggfunc=lambda x: x.sum()/ 1000 / 60),\n",
    "                                user_pseudo_id_count=pd.NamedAgg(column='user_pseudo_id', aggfunc= lambda x: x.nunique()))"
   ]
  },
  {
   "cell_type": "code",
   "execution_count": null,
   "metadata": {},
   "outputs": [],
   "source": [
    "grouped_df_agg.head()"
   ]
  },
  {
   "cell_type": "code",
   "execution_count": null,
   "metadata": {},
   "outputs": [],
   "source": [
    "grouped_df_agg['engagement_per_user'] = grouped_df_agg['engagement_time_sum_min']/grouped_df_agg['user_pseudo_id_count']"
   ]
  },
  {
   "cell_type": "code",
   "execution_count": null,
   "metadata": {},
   "outputs": [],
   "source": [
    "grouped_df_agg.tail()"
   ]
  },
  {
   "cell_type": "code",
   "execution_count": null,
   "metadata": {},
   "outputs": [],
   "source": [
    "grouped_df_agg.index = grouped_df_agg.index + datetime.timedelta(days=19)"
   ]
  },
  {
   "cell_type": "code",
   "execution_count": null,
   "metadata": {},
   "outputs": [],
   "source": [
    "\n",
    "#grouped_df_agg.loc[pd.to_datetime('2020-03-25'), :] = grouped_df_agg.loc[pd.to_datetime('2020-03-06'), :]\n",
    "grouped_df_agg['engagement_per_user'].plot(figsize=(15, 4))\n",
    "\n",
    "plt.title('User Engagement Time/User')\n",
    "\n",
    "plt.xlabel('Time')\n",
    "plt.ylabel('Engagement Time/User (minutes)')\n",
    "\n",
    "plt.xticks([\n",
    "            '2019-11-15', '2019-12-01',\n",
    "            '2019-12-15', '2020-01-01',\n",
    "            '2020-01-15', '2020-02-01',\n",
    "            '2020-02-15', '2020-03-01',\n",
    "            '2020-03-15', '2020-04-01', '2020-04-15' ])"
   ]
  },
  {
   "cell_type": "code",
   "execution_count": null,
   "metadata": {},
   "outputs": [],
   "source": [
    "notifs_df = processed_df_2[(processed_df_2['event_name'] == 'notification_open') & (processed_df_2['message_type'] == 'fcm')]"
   ]
  },
  {
   "cell_type": "code",
   "execution_count": null,
   "metadata": {},
   "outputs": [],
   "source": []
  },
  {
   "cell_type": "code",
   "execution_count": null,
   "metadata": {},
   "outputs": [],
   "source": [
    "resampled_notifs = notifs_df.groupby([pd.Grouper(freq='19D')])"
   ]
  },
  {
   "cell_type": "code",
   "execution_count": null,
   "metadata": {},
   "outputs": [],
   "source": [
    "resampled_notifs"
   ]
  },
  {
   "cell_type": "code",
   "execution_count": null,
   "metadata": {},
   "outputs": [],
   "source": [
    "resampled_notifs_agg = resampled_notifs.agg(notif_open_count=pd.NamedAgg(column='event_name', aggfunc='count'),\n",
    "                     user_pseudo_id_count=pd.NamedAgg(column='user_pseudo_id', aggfunc=lambda x: x.nunique()))"
   ]
  },
  {
   "cell_type": "code",
   "execution_count": null,
   "metadata": {},
   "outputs": [],
   "source": []
  },
  {
   "cell_type": "code",
   "execution_count": null,
   "metadata": {},
   "outputs": [],
   "source": [
    "resampled_notifs_agg['notif_open_per_user'] = resampled_notifs_agg['notif_open_count'] / resampled_notifs_agg['user_pseudo_id_count']"
   ]
  },
  {
   "cell_type": "code",
   "execution_count": null,
   "metadata": {},
   "outputs": [],
   "source": [
    "resampled_notifs_agg.head()"
   ]
  },
  {
   "cell_type": "code",
   "execution_count": null,
   "metadata": {},
   "outputs": [],
   "source": [
    "resampled_notifs_agg.index = resampled_notifs_agg.index + datetime.timedelta(days=19)"
   ]
  },
  {
   "cell_type": "code",
   "execution_count": null,
   "metadata": {},
   "outputs": [],
   "source": [
    "resampled_notifs_agg['notif_open_per_user'].plot(figsize=(15, 4))\n",
    "\n",
    "\n",
    "plt.title('Number of opened Notifications / User')\n",
    "\n",
    "plt.xlabel('Time')\n",
    "plt.ylabel('Number of opened Notifications / User')\n",
    "\n",
    "plt.xticks([\n",
    "            '2019-11-15', '2019-12-01',\n",
    "            '2019-12-15', '2020-01-01',\n",
    "            '2020-01-15', '2020-02-01',\n",
    "            '2020-02-15', '2020-03-01',\n",
    "            '2020-03-15', '2020-04-01', '2020-04-15' ])"
   ]
  },
  {
   "cell_type": "code",
   "execution_count": null,
   "metadata": {},
   "outputs": [],
   "source": [
    "notifs_received_df = processed_df_2[(processed_df_2['event_name'] == 'notification_receive') &\n",
    "                                    (processed_df_2['message_type'] == 'display')]"
   ]
  },
  {
   "cell_type": "code",
   "execution_count": null,
   "metadata": {},
   "outputs": [],
   "source": [
    "resampled_notifs_received_df = notifs_received_df.groupby([pd.Grouper(freq='19D')])"
   ]
  },
  {
   "cell_type": "code",
   "execution_count": null,
   "metadata": {},
   "outputs": [],
   "source": [
    "resampled_notifs_received_df_agg = resampled_notifs_received_df.agg(notif_receive_count=pd.NamedAgg(column='event_name', aggfunc='count'),\n",
    "                     user_pseudo_id_count=pd.NamedAgg(column='user_pseudo_id', aggfunc=lambda x: x.nunique()))"
   ]
  },
  {
   "cell_type": "code",
   "execution_count": null,
   "metadata": {},
   "outputs": [],
   "source": [
    "resampled_notifs_received_df_agg['notif_received_per_user'] = resampled_notifs_received_df_agg['notif_receive_count'] / resampled_notifs_received_df_agg['user_pseudo_id_count']"
   ]
  },
  {
   "cell_type": "code",
   "execution_count": null,
   "metadata": {},
   "outputs": [],
   "source": [
    "resampled_notifs_received_df_agg.head()"
   ]
  },
  {
   "cell_type": "code",
   "execution_count": null,
   "metadata": {},
   "outputs": [],
   "source": [
    "resampled_notifs_received_df_agg.index = resampled_notifs_received_df_agg.index + datetime.timedelta(days=19)"
   ]
  },
  {
   "cell_type": "code",
   "execution_count": null,
   "metadata": {},
   "outputs": [],
   "source": [
    "resampled_notifs_received_df_agg['notif_received_per_user'].plot(figsize=(15, 4))\n",
    "\n",
    "\n",
    "plt.title('Number of Received Notifications / User')\n",
    "\n",
    "plt.xlabel('Time')\n",
    "plt.ylabel('Number of Received Notifications / User')\n",
    "\n",
    "plt.xticks(['2019-11-01',\n",
    "            '2019-11-15', '2019-12-01',\n",
    "            '2019-12-15', '2020-01-01',\n",
    "            '2020-01-15', '2020-02-01',\n",
    "            '2020-02-15', '2020-03-01',\n",
    "            '2020-03-15', '2020-04-01' ])"
   ]
  },
  {
   "cell_type": "code",
   "execution_count": null,
   "metadata": {},
   "outputs": [],
   "source": [
    "resampled_notifs_received_df_agg['percent_open'] = resampled_notifs_agg['notif_open_count'] / resampled_notifs_received_df_agg['notif_receive_count']"
   ]
  },
  {
   "cell_type": "code",
   "execution_count": null,
   "metadata": {},
   "outputs": [],
   "source": [
    "resampled_notifs_received_df_agg.tail()"
   ]
  },
  {
   "cell_type": "code",
   "execution_count": null,
   "metadata": {},
   "outputs": [],
   "source": [
    "resampled_notifs_received_df_agg.index = resampled_notifs_received_df_agg.index + datetime.timedelta(days=19)"
   ]
  },
  {
   "cell_type": "code",
   "execution_count": null,
   "metadata": {},
   "outputs": [],
   "source": [
    "resampled_notifs_received_df_agg['percent_open'].plot(figsize=(15, 4))\n",
    "\n",
    "\n",
    "plt.title('Percent of opened notifications vs received')\n",
    "\n",
    "plt.xlabel('Time')\n",
    "plt.ylabel('Percent of opened notifications vs received')\n",
    "\n",
    "plt.xticks(['2019-11-15', '2019-12-01',\n",
    "            '2019-12-15', '2020-01-01',\n",
    "            '2020-01-15', '2020-02-01',\n",
    "            '2020-02-15', '2020-03-01',\n",
    "            '2020-03-15', '2020-04-01',\n",
    "            '2020-04-15'])\n",
    "plt.show()"
   ]
  },
  {
   "cell_type": "code",
   "execution_count": null,
   "metadata": {},
   "outputs": [],
   "source": []
  },
  {
   "cell_type": "code",
   "execution_count": null,
   "metadata": {},
   "outputs": [],
   "source": [
    "# Calculate user engagement per user per project\n",
    "\n",
    "user_eng_project_df = processed_df_2[processed_df_2['event_name'] == 'user_engagement']\n",
    "project_grouped_df = user_eng_project_df.groupby(['projectId', pd.Grouper(freq='19D')])"
   ]
  },
  {
   "cell_type": "code",
   "execution_count": null,
   "metadata": {},
   "outputs": [],
   "source": [
    "# Aggregate enagement time as sum and count the number of unique users\n",
    "project_grouped_df_agg = project_grouped_df.agg(engagement_time_sum_min=pd.NamedAgg(column='engagement_time_msec', aggfunc=lambda x: x.sum()/ 1000 / 60),\n",
    "                                user_pseudo_id_count=pd.NamedAgg(column='user_pseudo_id', aggfunc= lambda x: x.nunique()))"
   ]
  },
  {
   "cell_type": "code",
   "execution_count": null,
   "metadata": {},
   "outputs": [],
   "source": [
    "project_grouped_df_agg['engagement_per_user'] = project_grouped_df_agg['engagement_time_sum_min']/project_grouped_df_agg['user_pseudo_id_count']"
   ]
  },
  {
   "cell_type": "code",
   "execution_count": null,
   "metadata": {},
   "outputs": [],
   "source": [
    "project_grouped_df_agg.head()"
   ]
  },
  {
   "cell_type": "code",
   "execution_count": null,
   "metadata": {},
   "outputs": [],
   "source": [
    "for (name, timerange), group in project_grouped_df:\n",
    "    print(name)"
   ]
  },
  {
   "cell_type": "code",
   "execution_count": null,
   "metadata": {},
   "outputs": [],
   "source": []
  },
  {
   "cell_type": "code",
   "execution_count": null,
   "metadata": {},
   "outputs": [],
   "source": [
    "LONDON_UK = ['RADAR-MDD-KCL-s1']\n",
    "BARCELONA_SPAIN = ['RADAR-MDD-CIBER-s1', 'RADAR-MSDis-VHIR-s1', 'RADAR-MSDep-VHIR-s1', 'RADAR-MDD-IISPV-s1']\n",
    "COPENHAGEN_DENMARK = ['RADAR-MSDep-RegionH-s1', 'RADAR-MSDis-RegionH-s1']\n",
    "MILAN_ITALY = ['RADAR-MSDep-OSR-s1', 'RADAR-MSDis-OSR-s1']\n",
    "AMSTERDAM_NETHERLANDS = ['RADAR-MDD-VUmc-s1']\n",
    "ALL_RADAR_CNS = LONDON_UK + BARCELONA_SPAIN + COPENHAGEN_DENMARK + MILAN_ITALY + AMSTERDAM_NETHERLANDS"
   ]
  },
  {
   "cell_type": "code",
   "execution_count": null,
   "metadata": {},
   "outputs": [],
   "source": [
    "print(ALL_RADAR_CNS)"
   ]
  },
  {
   "cell_type": "code",
   "execution_count": null,
   "metadata": {},
   "outputs": [],
   "source": [
    "# Drop all columns not part of RADAR-CNS\n",
    "\n",
    "projects_to_discard = [project for project in project_grouped_df_agg.index.get_level_values('projectId') if project not in ALL_RADAR_CNS ]\n",
    "print(projects_to_discard)\n",
    "project_grouped_df_agg = project_grouped_df_agg.drop(labels=projects_to_discard, axis=0, level='projectId')"
   ]
  },
  {
   "cell_type": "code",
   "execution_count": null,
   "metadata": {},
   "outputs": [],
   "source": [
    "project_grouped_df_agg.head()"
   ]
  },
  {
   "cell_type": "code",
   "execution_count": null,
   "metadata": {},
   "outputs": [],
   "source": [
    "# Calculate notifications opened per user per project\n",
    "\n",
    "user_notif_project_df = processed_df_2[(processed_df_2['event_name'] == 'notification_open') & (processed_df_2['message_type'] == 'fcm')]\n",
    "project_grouped_notif_df = user_notif_project_df.groupby(['projectId', pd.Grouper(freq='19D')])"
   ]
  },
  {
   "cell_type": "code",
   "execution_count": null,
   "metadata": {},
   "outputs": [],
   "source": [
    "# Aggregate notif as count and count the number of unique users\n",
    "project_grouped_notif_df_agg = project_grouped_notif_df.agg(notif_open_count=pd.NamedAgg(column='event_name', aggfunc='count'),\n",
    "                                user_pseudo_id_count=pd.NamedAgg(column='user_pseudo_id', aggfunc= lambda x: x.nunique()))"
   ]
  },
  {
   "cell_type": "code",
   "execution_count": null,
   "metadata": {},
   "outputs": [],
   "source": [
    "project_grouped_notif_df_agg['notif_open_per_user'] = project_grouped_notif_df_agg['notif_open_count'] / project_grouped_notif_df_agg['user_pseudo_id_count']"
   ]
  },
  {
   "cell_type": "code",
   "execution_count": null,
   "metadata": {},
   "outputs": [],
   "source": [
    "project_grouped_notif_df_agg = project_grouped_notif_df_agg.drop(labels=projects_to_discard, axis=0, level='projectId')"
   ]
  },
  {
   "cell_type": "code",
   "execution_count": null,
   "metadata": {},
   "outputs": [],
   "source": [
    "project_grouped_notif_df_agg.head()"
   ]
  },
  {
   "cell_type": "code",
   "execution_count": null,
   "metadata": {},
   "outputs": [],
   "source": [
    "notifs_received_df = processed_df_2[(processed_df_2['event_name'] == 'notification_receive') &\n",
    "                                    (processed_df_2['message_type'] == 'display')]\n",
    "project_grouped_notifs_received_df = notifs_received_df.groupby(['projectId', pd.Grouper(freq='19D')])"
   ]
  },
  {
   "cell_type": "code",
   "execution_count": null,
   "metadata": {},
   "outputs": [],
   "source": [
    "# Aggregate notif as count and count the number of unique users\n",
    "project_grouped_notifs_received_df_agg = project_grouped_notifs_received_df.agg(notif_receive_count=pd.NamedAgg(column='event_name', aggfunc='count'),\n",
    "                                user_pseudo_id_count=pd.NamedAgg(column='user_pseudo_id', aggfunc= lambda x: x.nunique()))"
   ]
  },
  {
   "cell_type": "code",
   "execution_count": null,
   "metadata": {},
   "outputs": [],
   "source": [
    "project_grouped_notifs_received_df_agg = project_grouped_notifs_received_df_agg.drop(labels=projects_to_discard, axis=0, level='projectId')"
   ]
  },
  {
   "cell_type": "code",
   "execution_count": null,
   "metadata": {},
   "outputs": [],
   "source": [
    "project_grouped_notif_df_agg['percent_open'] = project_grouped_notif_df_agg['notif_open_count'] / project_grouped_notifs_received_df_agg['notif_receive_count']"
   ]
  },
  {
   "cell_type": "code",
   "execution_count": null,
   "metadata": {},
   "outputs": [],
   "source": [
    "project_grouped_notif_df_agg.head()"
   ]
  },
  {
   "cell_type": "code",
   "execution_count": null,
   "metadata": {},
   "outputs": [],
   "source": [
    "project_grouped_notifs_received_df_agg.head()"
   ]
  },
  {
   "cell_type": "code",
   "execution_count": null,
   "metadata": {},
   "outputs": [],
   "source": [
    "def get_data_for_study(grouped_data: pd.DataFrame,\n",
    "                       study_names: list,\n",
    "                       aggregations: dict,\n",
    "                       days_to_add = 19):\n",
    "    data = grouped_data.loc[study_names, :]\n",
    "    data = data.reset_index(level='projectId')\n",
    "    data_agg = data.groupby('event_timestamp').agg(aggregations)\n",
    "    data_agg.index = data_agg.index + datetime.timedelta(days=days_to_add)\n",
    "    return data_agg\n",
    "    \n",
    "def plot_for_study(data:pd.DataFrame,\n",
    "                   column_name: str,\n",
    "                   title: str,\n",
    "                   ylabel: str,\n",
    "                   lockdown_rec: str,\n",
    "                   lockdown: str,\n",
    "                   xlabel='Time',\n",
    "                   figsize=(15, 4),\n",
    "                   ylim_min = 6,\n",
    "                   ylim_max = 23):\n",
    "    data[column_name].plot(figsize=(15, 4))\n",
    "\n",
    "    plt.title(title)\n",
    "\n",
    "    plt.xlabel(xlabel)\n",
    "    plt.ylabel(ylabel)\n",
    "\n",
    "    plt.xticks(['2019-11-15', '2019-12-01',\n",
    "                '2019-12-15', '2020-01-01',\n",
    "                '2020-01-15', '2020-02-01',\n",
    "                '2020-02-15', '2020-03-01',\n",
    "                '2020-03-15', '2020-04-01',\n",
    "                '2020-04-15'])\n",
    "    plt.vlines([lockdown_rec], ylim_min, ylim_max, linestyles='dashed', colors='g', label='National Recommendation')\n",
    "    plt.vlines([lockdown], ylim_min, ylim_max, linestyles='dashed', colors='r', label='National Lockdown')\n",
    "    plt.show()\n",
    "    "
   ]
  },
  {
   "cell_type": "code",
   "execution_count": null,
   "metadata": {},
   "outputs": [],
   "source": [
    "# UK User engagement plot\n",
    "london_data = get_data_for_study(project_grouped_df_agg,\n",
    "                                    LONDON_UK,\n",
    "                                    {'engagement_time_sum_min' : 'sum', 'user_pseudo_id_count': 'sum'})\n",
    "london_data['engagement_per_user'] = london_data['engagement_time_sum_min'] / london_data['user_pseudo_id_count']\n",
    "\n",
    "plot_for_study(london_data,\n",
    "               'engagement_per_user',\n",
    "               'London, UK',\n",
    "               'User enagement/ User (minutes)',\n",
    "               '2020-03-21',\n",
    "               '2020-03-24',\n",
    "               ylim_min = 6,\n",
    "               ylim_max = 23)"
   ]
  },
  {
   "cell_type": "code",
   "execution_count": null,
   "metadata": {},
   "outputs": [],
   "source": [
    "def aggregate_percent_open(x):\n",
    "    "
   ]
  },
  {
   "cell_type": "code",
   "execution_count": null,
   "metadata": {},
   "outputs": [],
   "source": [
    "# UK number of opened notifications per user plot\n",
    "london_notif_data = get_data_for_study(project_grouped_notif_df_agg,\n",
    "                                    LONDON_UK,\n",
    "                                    {'notif_open_count' : 'sum', 'user_pseudo_id_count': 'sum'})\n",
    "london_notif_received_data = get_data_for_study(project_grouped_notifs_received_df_agg,\n",
    "                                    LONDON_UK,\n",
    "                                    {'notif_receive_count' : 'sum', 'user_pseudo_id_count': 'sum'})\n",
    "london_notif_data['notif_open_per_user'] = london_notif_data['notif_open_count'] / london_notif_data['user_pseudo_id_count']\n",
    "london_notif_data['percent_open'] = london_notif_data['notif_open_count'] / london_notif_received_data['notif_receive_count']\n",
    "plot_for_study(london_notif_data,\n",
    "               'notif_open_per_user',\n",
    "               'London, UK',\n",
    "               'Number of opened Notifications / User',\n",
    "               '2020-03-21',\n",
    "               '2020-03-24',\n",
    "               ylim_min = 2,\n",
    "               ylim_max = 9)"
   ]
  },
  {
   "cell_type": "code",
   "execution_count": null,
   "metadata": {},
   "outputs": [],
   "source": [
    "# UK percent of opened notifications vs received plot\n",
    "\n",
    "plot_for_study(london_notif_data,\n",
    "               'percent_open',\n",
    "               'London, UK',\n",
    "               'Percent of opened notifications vs received',\n",
    "               '2020-03-21',\n",
    "               '2020-03-24',\n",
    "               ylim_min = 0.3,\n",
    "               ylim_max = 0.5)"
   ]
  },
  {
   "cell_type": "code",
   "execution_count": null,
   "metadata": {},
   "outputs": [],
   "source": []
  },
  {
   "cell_type": "code",
   "execution_count": null,
   "metadata": {},
   "outputs": [],
   "source": [
    "# Spain User engagement plot\n",
    "barcelona_data = get_data_for_study(project_grouped_df_agg,\n",
    "                                    BARCELONA_SPAIN,\n",
    "                                    {'engagement_time_sum_min' : 'sum', 'user_pseudo_id_count': 'sum'})\n",
    "barcelona_data['engagement_per_user'] = barcelona_data['engagement_time_sum_min'] / barcelona_data['user_pseudo_id_count']\n",
    "\n",
    "plot_for_study(barcelona_data,\n",
    "               'engagement_per_user',\n",
    "               'Barcelona, Spain',\n",
    "               'User enagement/ User (minutes)',\n",
    "               '2020-03-09',\n",
    "               '2020-03-14',\n",
    "               ylim_min = 6,\n",
    "               ylim_max = 10)"
   ]
  },
  {
   "cell_type": "code",
   "execution_count": null,
   "metadata": {},
   "outputs": [],
   "source": [
    "# Spain number of opened notifications per user plot\n",
    "\n",
    "barcelona_notif_data = get_data_for_study(project_grouped_notif_df_agg,\n",
    "                                    BARCELONA_SPAIN,\n",
    "                                    {'notif_open_count' : 'sum', 'user_pseudo_id_count': 'sum'})\n",
    "barcelona_notif_received_data = get_data_for_study(project_grouped_notifs_received_df_agg,\n",
    "                                    BARCELONA_SPAIN,\n",
    "                                    {'notif_receive_count' : 'sum', 'user_pseudo_id_count': 'sum'})\n",
    "barcelona_notif_data['notif_open_per_user'] = barcelona_notif_data['notif_open_count'] / barcelona_notif_data['user_pseudo_id_count']\n",
    "barcelona_notif_data['percent_open'] = barcelona_notif_data['notif_open_count'] / barcelona_notif_received_data['notif_receive_count']\n",
    "plot_for_study(barcelona_notif_data,\n",
    "               'notif_open_per_user',\n",
    "               'Barcelona, Spain',\n",
    "               'Number of opened Notifications / User',\n",
    "               '2020-03-09',\n",
    "               '2020-03-14',\n",
    "               ylim_min = 2,\n",
    "               ylim_max = 2.5)\n"
   ]
  },
  {
   "cell_type": "code",
   "execution_count": null,
   "metadata": {},
   "outputs": [],
   "source": [
    "# Spain percent of opened notifications vs received plot\n",
    "plot_for_study(barcelona_notif_data,\n",
    "               'percent_open',\n",
    "               'Barcelona, Spain',\n",
    "               'Percent of opened notifications vs received',\n",
    "               '2020-03-09',\n",
    "               '2020-03-14',\n",
    "               ylim_min = 0.3,\n",
    "               ylim_max = 0.5)"
   ]
  },
  {
   "cell_type": "code",
   "execution_count": null,
   "metadata": {},
   "outputs": [],
   "source": []
  },
  {
   "cell_type": "code",
   "execution_count": null,
   "metadata": {},
   "outputs": [],
   "source": [
    "# Denmark User engagement plot\n",
    "copenhagen_data = get_data_for_study(project_grouped_df_agg,\n",
    "                                    COPENHAGEN_DENMARK,\n",
    "                                    {'engagement_time_sum_min' : 'sum', 'user_pseudo_id_count': 'sum'})\n",
    "copenhagen_data['engagement_per_user'] = copenhagen_data['engagement_time_sum_min'] / copenhagen_data['user_pseudo_id_count']\n",
    "\n",
    "plot_for_study(copenhagen_data,\n",
    "               'engagement_per_user',\n",
    "               'Copenhagen, Denmark',\n",
    "               'User enagement/ User (minutes)',\n",
    "               '2020-03-13',\n",
    "               '2020-03-19',\n",
    "               ylim_min = 4,\n",
    "               ylim_max = 8)"
   ]
  },
  {
   "cell_type": "code",
   "execution_count": null,
   "metadata": {},
   "outputs": [],
   "source": [
    "# Denmark number of opened notifications per user plot\n",
    "copenhagen_notif_data = get_data_for_study(project_grouped_notif_df_agg,\n",
    "                                    COPENHAGEN_DENMARK,\n",
    "                                    {'notif_open_count' : 'sum', 'user_pseudo_id_count': 'sum'})\n",
    "copenhagen_notif_received_data = get_data_for_study(project_grouped_notifs_received_df_agg,\n",
    "                                    COPENHAGEN_DENMARK,\n",
    "                                    {'notif_receive_count' : 'sum', 'user_pseudo_id_count': 'sum'})\n",
    "copenhagen_notif_data['notif_open_per_user'] = copenhagen_notif_data['notif_open_count'] / copenhagen_notif_data['user_pseudo_id_count']\n",
    "copenhagen_notif_data['percent_open'] = copenhagen_notif_data['notif_open_count'] / copenhagen_notif_received_data['notif_receive_count']\n",
    "plot_for_study(copenhagen_notif_data,\n",
    "               'notif_open_per_user',\n",
    "               'Copenhagen, Denmark',\n",
    "               'Number of opened Notifications / User',\n",
    "               '2020-03-13',\n",
    "               '2020-03-19',\n",
    "               ylim_min = 1.5,\n",
    "               ylim_max = 3.5)"
   ]
  },
  {
   "cell_type": "code",
   "execution_count": null,
   "metadata": {},
   "outputs": [],
   "source": [
    "# Denmark percent of opened notifications vs received plot\n",
    "plot_for_study(copenhagen_notif_data,\n",
    "               'percent_open',\n",
    "               'Copenhagen, Denmark',\n",
    "               'Percent of opened notifications vs received',\n",
    "               '2020-03-13',\n",
    "               '2020-03-19',\n",
    "               ylim_min = 0.2,\n",
    "               ylim_max = 0.5)"
   ]
  },
  {
   "cell_type": "code",
   "execution_count": null,
   "metadata": {},
   "outputs": [],
   "source": [
    "# Italy User engagement plot\n",
    "milan_data = get_data_for_study(project_grouped_df_agg,\n",
    "                                    MILAN_ITALY,\n",
    "                                    {'engagement_time_sum_min' : 'sum', 'user_pseudo_id_count': 'sum'})\n",
    "milan_data['engagement_per_user'] = milan_data['engagement_time_sum_min'] / milan_data['user_pseudo_id_count']\n",
    "\n",
    "plot_for_study(milan_data,\n",
    "               'engagement_per_user',\n",
    "               'Milan, Italy',\n",
    "               'User enagement/ User (minutes)',\n",
    "               '2020-02-22',\n",
    "               '2020-03-10',\n",
    "               ylim_min = 4,\n",
    "               ylim_max = 10)"
   ]
  },
  {
   "cell_type": "code",
   "execution_count": null,
   "metadata": {},
   "outputs": [],
   "source": [
    "# Italy number of opened notifications per user plot\n",
    "milan_notif_data = get_data_for_study(project_grouped_notif_df_agg,\n",
    "                                    MILAN_ITALY,\n",
    "                                    {'notif_open_count' : 'sum', 'user_pseudo_id_count': 'sum'})\n",
    "milan_notif_received_data = get_data_for_study(project_grouped_notifs_received_df_agg,\n",
    "                                    MILAN_ITALY,\n",
    "                                    {'notif_receive_count' : 'sum', 'user_pseudo_id_count': 'sum'})\n",
    "milan_notif_data['notif_open_per_user'] = milan_notif_data['notif_open_count'] / milan_notif_data['user_pseudo_id_count']\n",
    "milan_notif_data['percent_open'] = milan_notif_data['notif_open_count'] / milan_notif_received_data['notif_receive_count']\n",
    "plot_for_study(milan_notif_data,\n",
    "               'notif_open_per_user',\n",
    "               'Milan, Italy',\n",
    "               'Number of opened Notifications / User',\n",
    "               '2020-02-22',\n",
    "               '2020-03-10',\n",
    "               ylim_min = 2,\n",
    "               ylim_max = 3)"
   ]
  },
  {
   "cell_type": "code",
   "execution_count": null,
   "metadata": {},
   "outputs": [],
   "source": [
    "# Italy percent of opened notifications vs received plot\n",
    "\n",
    "plot_for_study(milan_notif_data,\n",
    "               'percent_open',\n",
    "               'Milan, Italy',\n",
    "               'Percent of opened notifications vs received',\n",
    "               '2020-02-22',\n",
    "               '2020-03-10',\n",
    "               ylim_min = 0.2,\n",
    "               ylim_max = 0.5)"
   ]
  }
 ],
 "metadata": {
  "kernelspec": {
   "display_name": "Python 3 (ipykernel)",
   "language": "python",
   "name": "python3"
  },
  "language_info": {
   "codemirror_mode": {
    "name": "ipython",
    "version": 3
   },
   "file_extension": ".py",
   "mimetype": "text/x-python",
   "name": "python",
   "nbconvert_exporter": "python",
   "pygments_lexer": "ipython3",
   "version": "3.9.6"
  }
 },
 "nbformat": 4,
 "nbformat_minor": 1
}
